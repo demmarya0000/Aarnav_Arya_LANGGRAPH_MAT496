{
 "cells": [
  {
   "cell_type": "markdown",
   "id": "fb0ebaf1",
   "metadata": {},
   "source": [
    "# Filtering and trimming messages \n",
    "\n",
    "## Review\n",
    "\n",
    "Now, we have a deeper understanding of a few things: \n",
    "\n",
    "* How to customize the graph state schema\n",
    "* How to define custom state reducers\n",
    "* How to use multiple graph state schemas\n",
    "\n",
    "## Goals\n",
    "\n",
    "Now, we can start using these concepts with models in LangGraph!\n",
    " \n",
    "In the next few sessions, we'll build towards a chatbot that has long-term memory.\n",
    "\n",
    "Because our chatbot will use messages, let's first talk a bit more about advanced ways to work with messages in graph state."
   ]
  },
  {
   "cell_type": "code",
   "execution_count": 25,
   "id": "d5197aba-5d46-421b-ae3b-4e3034edcfda",
   "metadata": {},
   "outputs": [],
   "source": [
    "%%capture --no-stderr\n",
    "%pip install --quiet -U langchain_core langgraph langchain_groq"
   ]
  },
  {
   "cell_type": "code",
   "execution_count": 26,
   "id": "768dc606-d5f2-468d-96ea-910b264e0f8a",
   "metadata": {},
   "outputs": [],
   "source": [
    "import os, getpass\n",
    "\n",
    "def _set_env(var: str):\n",
    "    if not os.environ.get(var):\n",
    "        os.environ[var] = getpass.getpass(f\"{var}: \")\n",
    "\n",
    "_set_env(\"GROQ_API_KEY\")"
   ]
  },
  {
   "cell_type": "markdown",
   "id": "8b64d8d3-e4ac-4961-bdc0-688825eb5864",
   "metadata": {},
   "source": [
    "We'll use [LangSmith](https://docs.smith.langchain.com/) for [tracing](https://docs.smith.langchain.com/concepts/tracing).\n",
    "\n",
    "We'll log to a project, `langchain-academy`.\n",
    "\n",
    "**Note:** LangSmith is optional. You can skip this cell if you don't want to use it."
   ]
  },
  {
   "cell_type": "code",
   "execution_count": 27,
   "id": "dd020c79",
   "metadata": {},
   "outputs": [],
   "source": [
    "# Optional: Uncomment to use LangSmith tracing\n",
    "# _set_env(\"LANGSMITH_API_KEY\")\n",
    "# os.environ[\"LANGSMITH_TRACING\"] = \"true\"\n",
    "# os.environ[\"LANGSMITH_PROJECT\"] = \"langchain-academy\""
   ]
  },
  {
   "cell_type": "markdown",
   "id": "72f3fc90-58b6-4f7f-897e-dddf6ae532c7",
   "metadata": {},
   "source": [
    "## Messages as state\n",
    "\n",
    "First, let's define some messages."
   ]
  },
  {
   "cell_type": "code",
   "execution_count": 28,
   "id": "cf11a463-e27a-4a05-b41d-64882e38edca",
   "metadata": {},
   "outputs": [
    {
     "name": "stdout",
     "output_type": "stream",
     "text": [
      "==================================\u001b[1m Ai Message \u001b[0m==================================\n",
      "Name: Bot\n",
      "\n",
      "So you said you were researching ocean mammals?\n",
      "================================\u001b[1m Human Message \u001b[0m=================================\n",
      "Name: Lance\n",
      "\n",
      "Yes, I know about whales. But what others should I learn about?\n"
     ]
    }
   ],
   "source": [
    "from pprint import pprint\n",
    "from langchain_core.messages import AIMessage, HumanMessage\n",
    "\n",
    "messages = [AIMessage(\"So you said you were researching ocean mammals?\", name=\"Bot\")]\n",
    "messages.append(HumanMessage(\"Yes, I know about whales. But what others should I learn about?\", name=\"Lance\"))\n",
    "\n",
    "for m in messages:\n",
    "    m.pretty_print()"
   ]
  },
  {
   "cell_type": "markdown",
   "id": "b814adcb-6bf9-4b75-be11-e59f933fbd0c",
   "metadata": {},
   "source": [
    "Recall we can pass them to a chat model."
   ]
  },
  {
   "cell_type": "code",
   "execution_count": 29,
   "id": "4712e288-e622-48a2-ad3f-a52f65f3ab08",
   "metadata": {},
   "outputs": [
    {
     "name": "stdout",
     "output_type": "stream",
     "text": [
      "Besides whales, there are several other fascinating ocean mammals you might want to learn about. Here are a few examples:\n",
      "\n",
      "1. **Dolphins**: Highly intelligent and social creatures, dolphins are known for their playful behavior and ability to communicate with each other using clicks and whistles.\n",
      "2. **Seals and Sea Lions**: These fin-footed mammals are found in oceans around the world and are known for their agility and playful nature. They're closely related to walruses and share similar characteristics.\n",
      "3. **Walruses**: Large, tusked mammals that inhabit the Arctic and sub-Arctic regions, walruses are well adapted to their icy environments and are skilled divers.\n",
      "4. **Manatees**: Also known as sea cows, manatees are large, gentle herbivores that inhabit shallow waters in the Caribbean and Gulf of Mexico.\n",
      "5. **Dugongs**: Similar to manatees, dugongs are large marine mammals that feed on sea grasses and are found in shallow waters in the Indo-Pacific region.\n",
      "6. **Otters**: While not exclusively marine mammals, some species of otters, such as the sea otter, are well adapted to life in the ocean and are known for their playful and curious nature.\n",
      "7. **Porpoises**: Similar to dolphins, porpoises are small, toothed cetaceans that are found in oceans around the world and are known for their shy and elusive behavior.\n",
      "\n",
      "These are just a few examples of the many fascinating ocean mammals out there. Each of these creatures has unique characteristics and adaptations that have allowed them to thrive in their marine environments.\n",
      "\n",
      "Is there a particular aspect of ocean mammals you'd like to learn more about, such as their habitats, behaviors, or conservation status?\n"
     ]
    }
   ],
   "source": [
    "from langchain_groq import ChatGroq\n",
    "\n",
    "# Initialize Groq with Llama model\n",
    "llm = ChatGroq(model=\"llama-3.3-70b-versatile\", temperature=0)\n",
    "result = llm.invoke(messages)\n",
    "print(result.content)"
   ]
  },
  {
   "cell_type": "markdown",
   "id": "fbd1dab8-0af8-4621-8264-ce65065f76ec",
   "metadata": {},
   "source": [
    "We can run our chat model in a simple graph with `MessagesState`."
   ]
  },
  {
   "cell_type": "code",
   "execution_count": 30,
   "id": "bbd8c39c-633b-4176-9cc6-8318e42bb5dd",
   "metadata": {},
   "outputs": [
    {
     "data": {
      "image/png": "[encoded data removed]",
      "text/plain": [
       "<IPython.core.display.Image object>"
      ]
     },
     "metadata": {},
     "output_type": "display_data"
    }
   ],
   "source": [
    "from IPython.display import Image, display\n",
    "from langgraph.graph import MessagesState\n",
    "from langgraph.graph import StateGraph, START, END\n",
    "\n",
    "# Node\n",
    "def chat_model_node(state: MessagesState):\n",
    "    return {\"messages\": llm.invoke(state[\"messages\"])}\n",
    "\n",
    "# Build graph\n",
    "builder = StateGraph(MessagesState)\n",
    "builder.add_node(\"chat_model\", chat_model_node)\n",
    "builder.add_edge(START, \"chat_model\")\n",
    "builder.add_edge(\"chat_model\", END)\n",
    "graph = builder.compile()\n",
    "\n",
    "# View\n",
    "display(Image(graph.get_graph().draw_mermaid_png()))"
   ]
  },
  {
   "cell_type": "code",
   "execution_count": 31,
   "id": "3a5a3e4a-ccfd-4d14-81f1-f0de6e11a1e4",
   "metadata": {},
   "outputs": [
    {
     "name": "stdout",
     "output_type": "stream",
     "text": [
      "==================================\u001b[1m Ai Message \u001b[0m==================================\n",
      "Name: Bot\n",
      "\n",
      "So you said you were researching ocean mammals?\n",
      "================================\u001b[1m Human Message \u001b[0m=================================\n",
      "Name: Lance\n",
      "\n",
      "Yes, I know about whales. But what others should I learn about?\n",
      "==================================\u001b[1m Ai Message \u001b[0m==================================\n",
      "\n",
      "Besides whales, there are several other fascinating ocean mammals you might want to learn about. Here are a few examples:\n",
      "\n",
      "1. **Dolphins**: Highly intelligent and social creatures, dolphins are known for their playful behavior and ability to communicate with each other using clicks and whistles.\n",
      "2. **Seals and Sea Lions**: These fin-footed mammals are found in oceans around the world and are known for their agility and playful nature. They're closely related to walruses and share similar characteristics.\n",
      "3. **Walruses**: Large, tusked mammals that inhabit the Arctic and sub-Arctic regions, walruses are well adapted to their icy environments and are skilled divers.\n",
      "4. **Manatees**: Also known as sea cows, manatees are large, gentle herbivores that inhabit shallow waters in the Caribbean and Gulf of Mexico.\n",
      "5. **Dugongs**: Similar to manatees, dugongs are large marine mammals that feed on sea grasses and are found in shallow waters in the Indo-Pacific region.\n",
      "6. **Otters**: While not exclusively marine mammals, some species of otters, such as the sea otter, are well adapted to life in the ocean and are known for their playful and curious nature.\n",
      "7. **Porpoises**: Similar to dolphins, porpoises are small, toothed cetaceans that are found in oceans around the world and are known for their shy and elusive behavior.\n",
      "\n",
      "These are just a few examples of the many fascinating ocean mammals out there. Each of these creatures has unique characteristics and adaptations that have allowed them to thrive in their marine environments.\n",
      "\n",
      "Is there a particular aspect of ocean mammals you'd like to learn more about, such as their habitats, behaviors, or conservation status?\n"
     ]
    }
   ],
   "source": [
    "output = graph.invoke({'messages': messages})\n",
    "for m in output['messages']:\n",
    "    m.pretty_print()"
   ]
  },
  {
   "cell_type": "markdown",
   "id": "34c33e63-1ef4-412d-bb10-6a1b9e5b35a7",
   "metadata": {},
   "source": [
    "## Reducer\n",
    "\n",
    "A practical challenge when working with messages is managing long-running conversations. \n",
    "\n",
    "Long-running conversations result in high token usage and latency if we are not careful, because we pass a growing list of messages to the model.\n",
    "\n",
    "We have a few ways to address this.\n",
    "\n",
    "First, recall the trick we saw using `RemoveMessage` and the `add_messages` reducer."
   ]
  },
  {
   "cell_type": "code",
   "execution_count": 32,
   "id": "222c6bc5-bb0e-4a43-80f5-c8ec38d99f3a",
   "metadata": {},
   "outputs": [
    {
     "data": {
      "image/png": "[encoded data removed]",
      "text/plain": [
       "<IPython.core.display.Image object>"
      ]
     },
     "metadata": {},
     "output_type": "display_data"
    }
   ],
   "source": [
    "from langchain_core.messages import RemoveMessage\n",
    "\n",
    "# Nodes\n",
    "def filter_messages(state: MessagesState):\n",
    "    # Delete all but the 2 most recent messages\n",
    "    delete_messages = [RemoveMessage(id=m.id) for m in state[\"messages\"][:-2]]\n",
    "    return {\"messages\": delete_messages}\n",
    "\n",
    "def chat_model_node(state: MessagesState):    \n",
    "    return {\"messages\": [llm.invoke(state[\"messages\"])]}\n",
    "\n",
    "# Build graph\n",
    "builder = StateGraph(MessagesState)\n",
    "builder.add_node(\"filter\", filter_messages)\n",
    "builder.add_node(\"chat_model\", chat_model_node)\n",
    "builder.add_edge(START, \"filter\")\n",
    "builder.add_edge(\"filter\", \"chat_model\")\n",
    "builder.add_edge(\"chat_model\", END)\n",
    "graph = builder.compile()\n",
    "\n",
    "# View\n",
    "display(Image(graph.get_graph().draw_mermaid_png()))"
   ]
  },
  {
   "cell_type": "code",
   "execution_count": 33,
   "id": "95a7c2cc-54ce-43e7-9a90-abf37827d709",
   "metadata": {},
   "outputs": [
    {
     "name": "stdout",
     "output_type": "stream",
     "text": [
      "==================================\u001b[1m Ai Message \u001b[0m==================================\n",
      "Name: Bot\n",
      "\n",
      "So you said you were researching ocean mammals?\n",
      "================================\u001b[1m Human Message \u001b[0m=================================\n",
      "Name: Lance\n",
      "\n",
      "Yes, I know about whales. But what others should I learn about?\n",
      "==================================\u001b[1m Ai Message \u001b[0m==================================\n",
      "\n",
      "Besides whales, there are several other fascinating ocean mammals you might want to learn about. Here are a few examples:\n",
      "\n",
      "1. **Dolphins**: Highly intelligent and social creatures, dolphins are known for their playful behavior and ability to communicate with each other using clicks and whistles.\n",
      "2. **Seals and Sea Lions**: These fin-footed mammals are found in oceans around the world and are known for their agility and playful nature. They're closely related to walruses and share similar characteristics.\n",
      "3. **Walruses**: Large, tusked mammals that inhabit the Arctic and sub-Arctic regions, walruses are well adapted to their icy environments and are skilled divers.\n",
      "4. **Manatees**: Also known as sea cows, manatees are large, gentle herbivores that inhabit shallow waters in the Caribbean and Gulf of Mexico.\n",
      "5. **Dugongs**: Similar to manatees, dugongs are large marine mammals that feed on sea grasses and are found in shallow waters in the Indo-Pacific region.\n",
      "6. **Otters**: While not exclusively marine mammals, some species of otters, such as the sea otter, are well adapted to life in the ocean and are known for their playful and curious nature.\n",
      "7. **Porpoises**: Similar to dolphins, porpoises are small, toothed cetaceans that are found in oceans around the world and are known for their shy and elusive behavior.\n",
      "\n",
      "These are just a few examples of the many fascinating ocean mammals out there. Each of these creatures has unique characteristics and adaptations that have allowed them to thrive in their marine environments.\n",
      "\n",
      "Is there a particular aspect of ocean mammals you'd like to learn more about, such as their habitats, behaviors, or conservation status?\n"
     ]
    }
   ],
   "source": [
    "# Message list with a preamble\n",
    "messages = [AIMessage(\"Hi.\", name=\"Bot\", id=\"1\")]\n",
    "messages.append(HumanMessage(\"Hi.\", name=\"Lance\", id=\"2\"))\n",
    "messages.append(AIMessage(\"So you said you were researching ocean mammals?\", name=\"Bot\", id=\"3\"))\n",
    "messages.append(HumanMessage(\"Yes, I know about whales. But what others should I learn about?\", name=\"Lance\", id=\"4\"))\n",
    "\n",
    "# Invoke\n",
    "output = graph.invoke({'messages': messages})\n",
    "for m in output['messages']:\n",
    "    m.pretty_print()"
   ]
  },
  {
   "cell_type": "markdown",
   "id": "f506457d-014b-4fee-a684-e5edfb4b8f0d",
   "metadata": {},
   "source": [
    "## Filtering messages\n",
    "\n",
    "If you don't need or want to modify the graph state, you can just filter the messages you pass to the chat model.\n",
    "\n",
    "For example, just pass in a filtered list: `llm.invoke(messages[-1:])` to the model."
   ]
  },
  {
   "cell_type": "code",
   "execution_count": 34,
   "id": "22d0b904-7cd6-486b-8948-105bee3d4683",
   "metadata": {},
   "outputs": [
    {
     "data": {
      "image/png": "[encoded data removed]",
      "text/plain": [
       "<IPython.core.display.Image object>"
      ]
     },
     "metadata": {},
     "output_type": "display_data"
    }
   ],
   "source": [
    "# Node\n",
    "def chat_model_node(state: MessagesState):\n",
    "    return {\"messages\": [llm.invoke(state[\"messages\"][-1:])]}\n",
    "\n",
    "# Build graph\n",
    "builder = StateGraph(MessagesState)\n",
    "builder.add_node(\"chat_model\", chat_model_node)\n",
    "builder.add_edge(START, \"chat_model\")\n",
    "builder.add_edge(\"chat_model\", END)\n",
    "graph = builder.compile()\n",
    "\n",
    "# View\n",
    "display(Image(graph.get_graph().draw_mermaid_png()))"
   ]
  },
  {
   "cell_type": "markdown",
   "id": "6f58c6fc-532f-418d-b70a-cfcb3307daf5",
   "metadata": {},
   "source": [
    "Let's take our existing list of messages, append the above LLM response, and append a follow-up question."
   ]
  },
  {
   "cell_type": "code",
   "execution_count": 35,
   "id": "16956015-1dbe-4108-89b5-4209b68b51ca",
   "metadata": {},
   "outputs": [],
   "source": [
    "messages.append(output['messages'][-1])\n",
    "messages.append(HumanMessage(\"Tell me more about Narwhals!\", name=\"Lance\"))"
   ]
  },
  {
   "cell_type": "code",
   "execution_count": 36,
   "id": "85563415-c085-46a8-a4ac-155df798c54e",
   "metadata": {},
   "outputs": [
    {
     "name": "stdout",
     "output_type": "stream",
     "text": [
      "==================================\u001b[1m Ai Message \u001b[0m==================================\n",
      "Name: Bot\n",
      "\n",
      "Hi.\n",
      "================================\u001b[1m Human Message \u001b[0m=================================\n",
      "Name: Lance\n",
      "\n",
      "Hi.\n",
      "==================================\u001b[1m Ai Message \u001b[0m==================================\n",
      "Name: Bot\n",
      "\n",
      "So you said you were researching ocean mammals?\n",
      "================================\u001b[1m Human Message \u001b[0m=================================\n",
      "Name: Lance\n",
      "\n",
      "Yes, I know about whales. But what others should I learn about?\n",
      "==================================\u001b[1m Ai Message \u001b[0m==================================\n",
      "\n",
      "Besides whales, there are several other fascinating ocean mammals you might want to learn about. Here are a few examples:\n",
      "\n",
      "1. **Dolphins**: Highly intelligent and social creatures, dolphins are known for their playful behavior and ability to communicate with each other using clicks and whistles.\n",
      "2. **Seals and Sea Lions**: These fin-footed mammals are found in oceans around the world and are known for their agility and playful nature. They're closely related to walruses and share similar characteristics.\n",
      "3. **Walruses**: Large, tusked mammals that inhabit the Arctic and sub-Arctic regions, walruses are well adapted to their icy environments and are skilled divers.\n",
      "4. **Manatees**: Also known as sea cows, manatees are large, gentle herbivores that inhabit shallow waters in the Caribbean and Gulf of Mexico.\n",
      "5. **Dugongs**: Similar to manatees, dugongs are large marine mammals that feed on sea grasses and are found in shallow waters in the Indo-Pacific region.\n",
      "6. **Otters**: While not exclusively marine mammals, some species of otters, such as the sea otter, are well adapted to life in the ocean and are known for their playful and curious nature.\n",
      "7. **Porpoises**: Similar to dolphins, porpoises are small, toothed cetaceans that are found in oceans around the world and are known for their shy and elusive behavior.\n",
      "\n",
      "These are just a few examples of the many fascinating ocean mammals out there. Each of these creatures has unique characteristics and adaptations that have allowed them to thrive in their marine environments.\n",
      "\n",
      "Is there a particular aspect of ocean mammals you'd like to learn more about, such as their habitats, behaviors, or conservation status?\n",
      "================================\u001b[1m Human Message \u001b[0m=================================\n",
      "Name: Lance\n",
      "\n",
      "Tell me more about Narwhals!\n"
     ]
    }
   ],
   "source": [
    "for m in messages:\n",
    "    m.pretty_print()"
   ]
  },
  {
   "cell_type": "code",
   "execution_count": 37,
   "id": "23349705-a059-47b5-9760-d8f64e687393",
   "metadata": {},
   "outputs": [
    {
     "name": "stdout",
     "output_type": "stream",
     "text": [
      "==================================\u001b[1m Ai Message \u001b[0m==================================\n",
      "Name: Bot\n",
      "\n",
      "Hi.\n",
      "================================\u001b[1m Human Message \u001b[0m=================================\n",
      "Name: Lance\n",
      "\n",
      "Hi.\n",
      "==================================\u001b[1m Ai Message \u001b[0m==================================\n",
      "Name: Bot\n",
      "\n",
      "So you said you were researching ocean mammals?\n",
      "================================\u001b[1m Human Message \u001b[0m=================================\n",
      "Name: Lance\n",
      "\n",
      "Yes, I know about whales. But what others should I learn about?\n",
      "==================================\u001b[1m Ai Message \u001b[0m==================================\n",
      "\n",
      "Besides whales, there are several other fascinating ocean mammals you might want to learn about. Here are a few examples:\n",
      "\n",
      "1. **Dolphins**: Highly intelligent and social creatures, dolphins are known for their playful behavior and ability to communicate with each other using clicks and whistles.\n",
      "2. **Seals and Sea Lions**: These fin-footed mammals are found in oceans around the world and are known for their agility and playful nature. They're closely related to walruses and share similar characteristics.\n",
      "3. **Walruses**: Large, tusked mammals that inhabit the Arctic and sub-Arctic regions, walruses are well adapted to their icy environments and are skilled divers.\n",
      "4. **Manatees**: Also known as sea cows, manatees are large, gentle herbivores that inhabit shallow waters in the Caribbean and Gulf of Mexico.\n",
      "5. **Dugongs**: Similar to manatees, dugongs are large marine mammals that feed on sea grasses and are found in shallow waters in the Indo-Pacific region.\n",
      "6. **Otters**: While not exclusively marine mammals, some species of otters, such as the sea otter, are well adapted to life in the ocean and are known for their playful and curious nature.\n",
      "7. **Porpoises**: Similar to dolphins, porpoises are small, toothed cetaceans that are found in oceans around the world and are known for their shy and elusive behavior.\n",
      "\n",
      "These are just a few examples of the many fascinating ocean mammals out there. Each of these creatures has unique characteristics and adaptations that have allowed them to thrive in their marine environments.\n",
      "\n",
      "Is there a particular aspect of ocean mammals you'd like to learn more about, such as their habitats, behaviors, or conservation status?\n",
      "================================\u001b[1m Human Message \u001b[0m=================================\n",
      "Name: Lance\n",
      "\n",
      "Tell me more about Narwhals!\n",
      "==================================\u001b[1m Ai Message \u001b[0m==================================\n",
      "\n",
      "Narwhals! They're often referred to as the \"unicorns of the sea\" due to their unique and mysterious nature. Here are some fascinating facts about narwhals:\n",
      "\n",
      "1. **The Tusk**: Narwhals are known for their distinctive tusk, which is actually a modified tooth that can grow up to 10 feet (3 meters) long. The tusk is found in males, and in some cases, females. It's spirally twisted and can be very heavy, with some tusks weighing up to 22 pounds (10 kilograms).\n",
      "2. **Purpose of the Tusk**: Scientists have long debated the purpose of the narwhal's tusk. Some theories include:\n",
      "\t* Sensing the environment: The tusk may be used to detect changes in the water, such as temperature, salinity, or the presence of prey.\n",
      "\t* Breaking ice: Narwhals may use their tusks to break through ice or create breathing holes.\n",
      "\t* Social status: The tusk may be a symbol of dominance or attractiveness, with longer tusks indicating higher social status.\n",
      "\t* Mating: The tusk may play a role in mating rituals, with males using their tusks to attract females or engage in battles for dominance.\n",
      "3. **Habitat and Distribution**: Narwhals are found in the Arctic waters of Canada, Greenland, and Russia. They prefer icy, cold waters and are often found in areas with heavy sea ice.\n",
      "4. **Diet**: Narwhals are carnivores and feed on a variety of prey, including:\n",
      "\t* Arctic cod\n",
      "\t* Shrimp\n",
      "\t* Crustaceans\n",
      "\t* Cephalopods (such as squid and octopus)\n",
      "5. **Social Structure**: Narwhals are social animals and often live in small groups, typically consisting of 10-100 individuals. These groups are usually led by a dominant male.\n",
      "6. **Conservation Status**: Narwhals are listed as \"Vulnerable\" on the IUCN Red List, due to threats such as:\n",
      "\t* Climate change: Rising temperatures and melting sea ice may alter their habitat and prey distribution.\n",
      "\t* Hunting: Narwhals are hunted for their tusks, meat, and skin.\n",
      "\t* Noise pollution: Increased shipping and seismic activity may disrupt their communication and behavior.\n",
      "7. **Unique Characteristics**: Narwhals have several distinctive features, including:\n",
      "\t* A bluish-gray color with white patches\n",
      "\t* A rounded head and a small, beaked snout\n",
      "\t* A layer of blubber to keep warm in cold waters\n",
      "\t* A unique way of swimming, using their flippers and tail to propel themselves through the water\n",
      "8. **Research and Study**: Narwhals are still a relatively mysterious species, and scientists are working to learn more about their behavior, habitat, and population dynamics. Researchers use techniques such as satellite tracking, acoustic monitoring, and genetic analysis to study narwhals.\n",
      "\n",
      "These fascinating creatures continue to capture the imagination of scientists and the general public alike. Their unique appearance and intriguing behavior make them a popular subject of study and admiration.\n"
     ]
    }
   ],
   "source": [
    "# Invoke, using message filtering\n",
    "output = graph.invoke({'messages': messages})\n",
    "for m in output['messages']:\n",
    "    m.pretty_print()"
   ]
  },
  {
   "cell_type": "markdown",
   "id": "42e1d8d2-e297-4d78-b54c-d12b3c866745",
   "metadata": {},
   "source": [
    "The state has all of the messages.\n",
    "\n",
    "But, the model invocation only uses the last message."
   ]
  },
  {
   "cell_type": "markdown",
   "id": "fc40d930-3c1f-47fe-8d2a-ce174873353c",
   "metadata": {},
   "source": [
    "## Trim messages\n",
    "\n",
    "Another approach is to trim messages based upon a set number of tokens. \n",
    "\n",
    "This restricts the message history to a specified number of tokens.\n",
    "\n",
    "While filtering only returns a post-hoc subset of the messages between agents, trimming restricts the number of tokens that a chat model can use to respond.\n",
    "\n",
    "We use `len` as a simple token counter (counts characters). For more accurate token counting, you could use word count or integrate with a tokenizer."
   ]
  },
  {
   "cell_type": "code",
   "execution_count": 38,
   "id": "2ff99b81-cf03-4cc2-b44f-44829a73e1fd",
   "metadata": {},
   "outputs": [
    {
     "data": {
      "image/png": "[encoded data removed]",
      "text/plain": [
       "<IPython.core.display.Image object>"
      ]
     },
     "metadata": {},
     "output_type": "display_data"
    }
   ],
   "source": [
    "from langchain_core.messages import trim_messages\n",
    "\n",
    "# Node\n",
    "def chat_model_node(state: MessagesState):\n",
    "    # Use len as token counter - simpler and doesn't require transformers\n",
    "    messages = trim_messages(\n",
    "            state[\"messages\"],\n",
    "            max_tokens=100,\n",
    "            strategy=\"last\",\n",
    "            token_counter=len,  # Use len instead of model for token counting\n",
    "            allow_partial=False,\n",
    "        )\n",
    "    return {\"messages\": [llm.invoke(messages)]}\n",
    "\n",
    "# Build graph\n",
    "builder = StateGraph(MessagesState)\n",
    "builder.add_node(\"chat_model\", chat_model_node)\n",
    "builder.add_edge(START, \"chat_model\")\n",
    "builder.add_edge(\"chat_model\", END)\n",
    "graph = builder.compile()\n",
    "\n",
    "# View\n",
    "display(Image(graph.get_graph().draw_mermaid_png()))"
   ]
  },
  {
   "cell_type": "code",
   "execution_count": 39,
   "id": "24df63ac-da29-4874-b3df-7e390e97cc8a",
   "metadata": {},
   "outputs": [],
   "source": [
    "messages.append(output['messages'][-1])\n",
    "messages.append(HumanMessage(\"Tell me where Orcas live!\", name=\"Lance\"))"
   ]
  },
  {
   "cell_type": "code",
   "execution_count": 40,
   "id": "6d9d8971-c75c-43ca-a209-eb1d07b2ead0",
   "metadata": {},
   "outputs": [
    {
     "name": "stdout",
     "output_type": "stream",
     "text": [
      "Original messages: 8\n",
      "Trimmed messages: 8\n",
      "==================================\u001b[1m Ai Message \u001b[0m==================================\n",
      "Name: Bot\n",
      "\n",
      "Hi.\n",
      "================================\u001b[1m Human Message \u001b[0m=================================\n",
      "Name: Lance\n",
      "\n",
      "Hi.\n",
      "==================================\u001b[1m Ai Message \u001b[0m==================================\n",
      "Name: Bot\n",
      "\n",
      "So you said you were researching ocean mammals?\n",
      "================================\u001b[1m Human Message \u001b[0m=================================\n",
      "Name: Lance\n",
      "\n",
      "Yes, I know about whales. But what others should I learn about?\n",
      "==================================\u001b[1m Ai Message \u001b[0m==================================\n",
      "\n",
      "Besides whales, there are several other fascinating ocean mammals you might want to learn about. Here are a few examples:\n",
      "\n",
      "1. **Dolphins**: Highly intelligent and social creatures, dolphins are known for their playful behavior and ability to communicate with each other using clicks and whistles.\n",
      "2. **Seals and Sea Lions**: These fin-footed mammals are found in oceans around the world and are known for their agility and playful nature. They're closely related to walruses and share similar characteristics.\n",
      "3. **Walruses**: Large, tusked mammals that inhabit the Arctic and sub-Arctic regions, walruses are well adapted to their icy environments and are skilled divers.\n",
      "4. **Manatees**: Also known as sea cows, manatees are large, gentle herbivores that inhabit shallow waters in the Caribbean and Gulf of Mexico.\n",
      "5. **Dugongs**: Similar to manatees, dugongs are large marine mammals that feed on sea grasses and are found in shallow waters in the Indo-Pacific region.\n",
      "6. **Otters**: While not exclusively marine mammals, some species of otters, such as the sea otter, are well adapted to life in the ocean and are known for their playful and curious nature.\n",
      "7. **Porpoises**: Similar to dolphins, porpoises are small, toothed cetaceans that are found in oceans around the world and are known for their shy and elusive behavior.\n",
      "\n",
      "These are just a few examples of the many fascinating ocean mammals out there. Each of these creatures has unique characteristics and adaptations that have allowed them to thrive in their marine environments.\n",
      "\n",
      "Is there a particular aspect of ocean mammals you'd like to learn more about, such as their habitats, behaviors, or conservation status?\n",
      "================================\u001b[1m Human Message \u001b[0m=================================\n",
      "Name: Lance\n",
      "\n",
      "Tell me more about Narwhals!\n",
      "==================================\u001b[1m Ai Message \u001b[0m==================================\n",
      "\n",
      "Narwhals! They're often referred to as the \"unicorns of the sea\" due to their unique and mysterious nature. Here are some fascinating facts about narwhals:\n",
      "\n",
      "1. **The Tusk**: Narwhals are known for their distinctive tusk, which is actually a modified tooth that can grow up to 10 feet (3 meters) long. The tusk is found in males, and in some cases, females. It's spirally twisted and can be very heavy, with some tusks weighing up to 22 pounds (10 kilograms).\n",
      "2. **Purpose of the Tusk**: Scientists have long debated the purpose of the narwhal's tusk. Some theories include:\n",
      "\t* Sensing the environment: The tusk may be used to detect changes in the water, such as temperature, salinity, or the presence of prey.\n",
      "\t* Breaking ice: Narwhals may use their tusks to break through ice or create breathing holes.\n",
      "\t* Social status: The tusk may be a symbol of dominance or attractiveness, with longer tusks indicating higher social status.\n",
      "\t* Mating: The tusk may play a role in mating rituals, with males using their tusks to attract females or engage in battles for dominance.\n",
      "3. **Habitat and Distribution**: Narwhals are found in the Arctic waters of Canada, Greenland, and Russia. They prefer icy, cold waters and are often found in areas with heavy sea ice.\n",
      "4. **Diet**: Narwhals are carnivores and feed on a variety of prey, including:\n",
      "\t* Arctic cod\n",
      "\t* Shrimp\n",
      "\t* Crustaceans\n",
      "\t* Cephalopods (such as squid and octopus)\n",
      "5. **Social Structure**: Narwhals are social animals and often live in small groups, typically consisting of 10-100 individuals. These groups are usually led by a dominant male.\n",
      "6. **Conservation Status**: Narwhals are listed as \"Vulnerable\" on the IUCN Red List, due to threats such as:\n",
      "\t* Climate change: Rising temperatures and melting sea ice may alter their habitat and prey distribution.\n",
      "\t* Hunting: Narwhals are hunted for their tusks, meat, and skin.\n",
      "\t* Noise pollution: Increased shipping and seismic activity may disrupt their communication and behavior.\n",
      "7. **Unique Characteristics**: Narwhals have several distinctive features, including:\n",
      "\t* A bluish-gray color with white patches\n",
      "\t* A rounded head and a small, beaked snout\n",
      "\t* A layer of blubber to keep warm in cold waters\n",
      "\t* A unique way of swimming, using their flippers and tail to propel themselves through the water\n",
      "8. **Research and Study**: Narwhals are still a relatively mysterious species, and scientists are working to learn more about their behavior, habitat, and population dynamics. Researchers use techniques such as satellite tracking, acoustic monitoring, and genetic analysis to study narwhals.\n",
      "\n",
      "These fascinating creatures continue to capture the imagination of scientists and the general public alike. Their unique appearance and intriguing behavior make them a popular subject of study and admiration.\n",
      "================================\u001b[1m Human Message \u001b[0m=================================\n",
      "Name: Lance\n",
      "\n",
      "Tell me where Orcas live!\n"
     ]
    }
   ],
   "source": [
    "# Example of trimming messages\n",
    "trimmed = trim_messages(\n",
    "            messages,\n",
    "            max_tokens=100,\n",
    "            strategy=\"last\",\n",
    "            token_counter=len,  # Use len instead of model for token counting\n",
    "            allow_partial=False\n",
    "        )\n",
    "\n",
    "print(f\"Original messages: {len(messages)}\")\n",
    "print(f\"Trimmed messages: {len(trimmed)}\")\n",
    "for m in trimmed:\n",
    "    m.pretty_print()"
   ]
  },
  {
   "cell_type": "code",
   "execution_count": 41,
   "id": "ed70a269-a869-4fa0-a1df-29736a432c51",
   "metadata": {},
   "outputs": [
    {
     "name": "stdout",
     "output_type": "stream",
     "text": [
      "==================================\u001b[1m Ai Message \u001b[0m==================================\n",
      "Name: Bot\n",
      "\n",
      "Hi.\n",
      "================================\u001b[1m Human Message \u001b[0m=================================\n",
      "Name: Lance\n",
      "\n",
      "Hi.\n",
      "==================================\u001b[1m Ai Message \u001b[0m==================================\n",
      "Name: Bot\n",
      "\n",
      "So you said you were researching ocean mammals?\n",
      "================================\u001b[1m Human Message \u001b[0m=================================\n",
      "Name: Lance\n",
      "\n",
      "Yes, I know about whales. But what others should I learn about?\n",
      "==================================\u001b[1m Ai Message \u001b[0m==================================\n",
      "\n",
      "Besides whales, there are several other fascinating ocean mammals you might want to learn about. Here are a few examples:\n",
      "\n",
      "1. **Dolphins**: Highly intelligent and social creatures, dolphins are known for their playful behavior and ability to communicate with each other using clicks and whistles.\n",
      "2. **Seals and Sea Lions**: These fin-footed mammals are found in oceans around the world and are known for their agility and playful nature. They're closely related to walruses and share similar characteristics.\n",
      "3. **Walruses**: Large, tusked mammals that inhabit the Arctic and sub-Arctic regions, walruses are well adapted to their icy environments and are skilled divers.\n",
      "4. **Manatees**: Also known as sea cows, manatees are large, gentle herbivores that inhabit shallow waters in the Caribbean and Gulf of Mexico.\n",
      "5. **Dugongs**: Similar to manatees, dugongs are large marine mammals that feed on sea grasses and are found in shallow waters in the Indo-Pacific region.\n",
      "6. **Otters**: While not exclusively marine mammals, some species of otters, such as the sea otter, are well adapted to life in the ocean and are known for their playful and curious nature.\n",
      "7. **Porpoises**: Similar to dolphins, porpoises are small, toothed cetaceans that are found in oceans around the world and are known for their shy and elusive behavior.\n",
      "\n",
      "These are just a few examples of the many fascinating ocean mammals out there. Each of these creatures has unique characteristics and adaptations that have allowed them to thrive in their marine environments.\n",
      "\n",
      "Is there a particular aspect of ocean mammals you'd like to learn more about, such as their habitats, behaviors, or conservation status?\n",
      "================================\u001b[1m Human Message \u001b[0m=================================\n",
      "Name: Lance\n",
      "\n",
      "Tell me more about Narwhals!\n",
      "==================================\u001b[1m Ai Message \u001b[0m==================================\n",
      "\n",
      "Narwhals! They're often referred to as the \"unicorns of the sea\" due to their unique and mysterious nature. Here are some fascinating facts about narwhals:\n",
      "\n",
      "1. **The Tusk**: Narwhals are known for their distinctive tusk, which is actually a modified tooth that can grow up to 10 feet (3 meters) long. The tusk is found in males, and in some cases, females. It's spirally twisted and can be very heavy, with some tusks weighing up to 22 pounds (10 kilograms).\n",
      "2. **Purpose of the Tusk**: Scientists have long debated the purpose of the narwhal's tusk. Some theories include:\n",
      "\t* Sensing the environment: The tusk may be used to detect changes in the water, such as temperature, salinity, or the presence of prey.\n",
      "\t* Breaking ice: Narwhals may use their tusks to break through ice or create breathing holes.\n",
      "\t* Social status: The tusk may be a symbol of dominance or attractiveness, with longer tusks indicating higher social status.\n",
      "\t* Mating: The tusk may play a role in mating rituals, with males using their tusks to attract females or engage in battles for dominance.\n",
      "3. **Habitat and Distribution**: Narwhals are found in the Arctic waters of Canada, Greenland, and Russia. They prefer icy, cold waters and are often found in areas with heavy sea ice.\n",
      "4. **Diet**: Narwhals are carnivores and feed on a variety of prey, including:\n",
      "\t* Arctic cod\n",
      "\t* Shrimp\n",
      "\t* Crustaceans\n",
      "\t* Cephalopods (such as squid and octopus)\n",
      "5. **Social Structure**: Narwhals are social animals and often live in small groups, typically consisting of 10-100 individuals. These groups are usually led by a dominant male.\n",
      "6. **Conservation Status**: Narwhals are listed as \"Vulnerable\" on the IUCN Red List, due to threats such as:\n",
      "\t* Climate change: Rising temperatures and melting sea ice may alter their habitat and prey distribution.\n",
      "\t* Hunting: Narwhals are hunted for their tusks, meat, and skin.\n",
      "\t* Noise pollution: Increased shipping and seismic activity may disrupt their communication and behavior.\n",
      "7. **Unique Characteristics**: Narwhals have several distinctive features, including:\n",
      "\t* A bluish-gray color with white patches\n",
      "\t* A rounded head and a small, beaked snout\n",
      "\t* A layer of blubber to keep warm in cold waters\n",
      "\t* A unique way of swimming, using their flippers and tail to propel themselves through the water\n",
      "8. **Research and Study**: Narwhals are still a relatively mysterious species, and scientists are working to learn more about their behavior, habitat, and population dynamics. Researchers use techniques such as satellite tracking, acoustic monitoring, and genetic analysis to study narwhals.\n",
      "\n",
      "These fascinating creatures continue to capture the imagination of scientists and the general public alike. Their unique appearance and intriguing behavior make them a popular subject of study and admiration.\n",
      "================================\u001b[1m Human Message \u001b[0m=================================\n",
      "Name: Lance\n",
      "\n",
      "Tell me where Orcas live!\n",
      "==================================\u001b[1m Ai Message \u001b[0m==================================\n",
      "\n",
      "Orcas, also known as killer whales, are found in oceans all around the world, from the Arctic to the Antarctic, and in every ocean in between. They are a highly adaptable and widespread species, and their distribution is influenced by factors such as food availability, water temperature, and salinity.\n",
      "\n",
      "Here are some of the main locations where orcas can be found:\n",
      "\n",
      "1. **Pacific Northwest**: The coastal waters of the Pacific Northwest, including the states of Washington, Oregon, and California, as well as the province of British Columbia, Canada, are home to a large population of orcas. The Salish Sea, which includes Puget Sound and the Strait of Georgia, is a particularly important habitat for these orcas.\n",
      "2. **Alaska**: Orcas are found in the coastal waters of Alaska, including the Gulf of Alaska, the Bering Sea, and the Arctic Ocean. They are commonly seen in areas such as Prince William Sound, Kenai Fjords, and the Aleutian Islands.\n",
      "3. **Antarctic and Sub-Antarctic Waters**: Orcas are found in the cold waters surrounding Antarctica and the sub-Antarctic islands, including the Falkland Islands, South Georgia, and the Kerguelen Islands.\n",
      "4. **Norway and the North Atlantic**: Orcas are found in the coastal waters of Norway, including the fjords and the Norwegian Sea. They are also found in the North Atlantic, including the waters around Iceland, the Faroe Islands, and the British Isles.\n",
      "5. **Australia and New Zealand**: Orcas are found in the coastal waters of Australia and New Zealand, including the waters around Tasmania, the Great Barrier Reef, and the coast of South Australia.\n",
      "6. **Tropical and Sub-Tropical Waters**: Orcas are also found in tropical and sub-tropical waters, including the waters around Hawaii, the Caribbean, and the Gulf of Mexico.\n",
      "\n",
      "Some specific locations known for orca sightings include:\n",
      "\n",
      "* **Icy Strait**, Alaska: A narrow waterway in southeastern Alaska known for its high concentration of orcas.\n",
      "* **Robson Bight**, British Columbia: A protected area in the Pacific Northwest known for its orca population and as a popular spot for orca watching.\n",
      "* **Punta Norte**, Argentina: A coastal area in Argentina known for its orca population and as a popular spot for orca watching.\n",
      "* **The Hebrides**, Scotland: A chain of islands off the west coast of Scotland known for its orca population and as a popular spot for orca watching.\n",
      "\n",
      "It's worth noting that orcas are a highly mobile species, and their distribution can vary depending on the time of year, food availability, and other factors.\n"
     ]
    }
   ],
   "source": [
    "# Invoke, using message trimming in the chat_model_node \n",
    "messages_out_trim = graph.invoke({'messages': messages})\n",
    "for m in messages_out_trim['messages']:\n",
    "    m.pretty_print()"
   ]
  }
 ],
 "metadata": {
  "kernelspec": {
   "display_name": "Python 3 (ipykernel)",
   "language": "python",
   "name": "python3"
  },
  "language_info": {
   "codemirror_mode": {
    "name": "ipython",
    "version": 3
   },
   "file_extension": ".py",
   "mimetype": "text/x-python",
   "name": "python",
   "nbconvert_exporter": "python",
   "pygments_lexer": "ipython3",
   "version": "3.11.13"
  }
 },
 "nbformat": 4,
 "nbformat_minor": 5
}
