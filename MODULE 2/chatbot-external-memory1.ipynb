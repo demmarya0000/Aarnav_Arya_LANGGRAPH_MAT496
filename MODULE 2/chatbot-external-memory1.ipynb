{
 "cells": [
  {
   "cell_type": "markdown",
   "id": "cf7ccb32",
   "metadata": {},
   "source": [
    "# Chatbot with message summarization & external DB memory \n",
    "\n",
    "## Review\n",
    "\n",
    "We've covered how to customize graph state schema and reducer. \n",
    " \n",
    "We've also shown a number of tricks for trimming or filtering messages in graph state. \n",
    "\n",
    "We've used these concepts in a Chatbot with memory that produces a running summary of the conversation.\n",
    "\n",
    "## Goals\n",
    "\n",
    "But, what if we want our Chatbot to have memory that persists indefinitely?\n",
    "\n",
    "Now, we'll introduce some more advanced checkpointers that support external databases. \n",
    "\n",
    "Here, we'll show how to use [Sqlite as a checkpointer](https://langchain-ai.github.io/langgraph/concepts/low_level/#checkpointer), but other checkpointers, such as [Postgres](https://langchain-ai.github.io/langgraph/how-tos/persistence_postgres/) are available!"
   ]
  },
  {
   "cell_type": "code",
   "execution_count": 1,
   "id": "85ed78d9-6ca2-45ac-96a9-52e341ec519d",
   "metadata": {},
   "outputs": [],
   "source": [
    "%%capture --no-stderr\n",
    "%pip install --quiet -U langgraph-checkpoint-sqlite langchain_core langgraph langchain_groq"
   ]
  },
  {
   "cell_type": "code",
   "execution_count": 2,
   "id": "2e10c4d4",
   "metadata": {},
   "outputs": [],
   "source": [
    "import os, getpass\n",
    "\n",
    "def _set_env(var: str):\n",
    "    if not os.environ.get(var):\n",
    "        os.environ[var] = getpass.getpass(f\"{var}: \")\n",
    "\n",
    "_set_env(\"GROQ_API_KEY\")"
   ]
  },
  {
   "cell_type": "markdown",
   "id": "b40d25c0-e9b5-4854-bf07-3cc3ff07122e",
   "metadata": {},
   "source": [
    "## Sqlite\n",
    "\n",
    "A good starting point here is the [SqliteSaver checkpointer](https://langchain-ai.github.io/langgraph/concepts/low_level/#checkpointer).\n",
    "\n",
    "Sqlite is a [small, fast, highly popular](https://x.com/karpathy/status/1819490455664685297) SQL database. \n",
    " \n",
    "If we supply `\":memory:\"` it creates an in-memory Sqlite database."
   ]
  },
  {
   "cell_type": "code",
   "execution_count": 3,
   "id": "fae15402-17ae-4e89-8ecf-4c89e08b22fe",
   "metadata": {},
   "outputs": [],
   "source": [
    "import sqlite3\n",
    "# In memory\n",
    "conn = sqlite3.connect(\":memory:\", check_same_thread = False)"
   ]
  },
  {
   "cell_type": "markdown",
   "id": "c2bf53ec-6d4a-42ce-8183-344795eed403",
   "metadata": {},
   "source": [
    "But, if we supply a db path, then it will create a database for us!"
   ]
  },
  {
   "cell_type": "code",
   "execution_count": 4,
   "id": "58339167-920c-4994-a0a7-0a9c5d4f7cf7",
   "metadata": {},
   "outputs": [],
   "source": [
    "# Create directory if it doesn't exist\n",
    "!mkdir -p state_db\n",
    "\n",
    "# Connect to local db (will create if doesn't exist)\n",
    "db_path = \"state_db/groq_chatbot.db\"\n",
    "conn = sqlite3.connect(db_path, check_same_thread=False)"
   ]
  },
  {
   "cell_type": "code",
   "execution_count": 5,
   "id": "3c7736b6-a750-48f8-a838-8e7616b12250",
   "metadata": {},
   "outputs": [],
   "source": [
    "# Here is our checkpointer \n",
    "from langgraph.checkpoint.sqlite import SqliteSaver\n",
    "memory = SqliteSaver(conn)"
   ]
  },
  {
   "cell_type": "markdown",
   "id": "9d8cb629-213f-4b87-965e-19b812c42da1",
   "metadata": {},
   "source": [
    "Let's re-define our chatbot with Groq."
   ]
  },
  {
   "cell_type": "code",
   "execution_count": 6,
   "id": "dc414e29-2078-41a0-887c-af1a6a3d72c0",
   "metadata": {},
   "outputs": [
    {
     "name": "stderr",
     "output_type": "stream",
     "text": [
      "/opt/anaconda3/envs/myenv/lib/python3.11/site-packages/tqdm/auto.py:21: TqdmWarning: IProgress not found. Please update jupyter and ipywidgets. See https://ipywidgets.readthedocs.io/en/stable/user_install.html\n",
      "  from .autonotebook import tqdm as notebook_tqdm\n",
      "None of PyTorch, TensorFlow >= 2.0, or Flax have been found. Models won't be available and only tokenizers, configuration and file/data utilities can be used.\n"
     ]
    }
   ],
   "source": [
    "from langchain_groq import ChatGroq\n",
    "from langchain_core.messages import SystemMessage, HumanMessage, RemoveMessage\n",
    "\n",
    "from langgraph.graph import END\n",
    "from langgraph.graph import MessagesState\n",
    "\n",
    "# Initialize Groq with Llama model\n",
    "model = ChatGroq(model=\"llama-3.3-70b-versatile\", temperature=0)\n",
    "\n",
    "class State(MessagesState):\n",
    "    summary: str\n",
    "\n",
    "# Define the logic to call the model\n",
    "def call_model(state: State):\n",
    "    \n",
    "    # Get summary if it exists\n",
    "    summary = state.get(\"summary\", \"\")\n",
    "\n",
    "    # If there is summary, then we add it\n",
    "    if summary:\n",
    "        \n",
    "        # Add summary to system message\n",
    "        system_message = f\"Summary of conversation earlier: {summary}\"\n",
    "\n",
    "        # Append summary to any newer messages\n",
    "        messages = [SystemMessage(content=system_message)] + state[\"messages\"]\n",
    "    \n",
    "    else:\n",
    "        messages = state[\"messages\"]\n",
    "    \n",
    "    response = model.invoke(messages)\n",
    "    return {\"messages\": response}\n",
    "\n",
    "def summarize_conversation(state: State):\n",
    "    \n",
    "    # First, we get any existing summary\n",
    "    summary = state.get(\"summary\", \"\")\n",
    "\n",
    "    # Create our summarization prompt \n",
    "    if summary:\n",
    "        \n",
    "        # A summary already exists\n",
    "        summary_message = (\n",
    "            f\"This is summary of the conversation to date: {summary}\\n\\n\"\n",
    "            \"Extend the summary by taking into account the new messages above:\"\n",
    "        )\n",
    "        \n",
    "    else:\n",
    "        summary_message = \"Create a summary of the conversation above:\"\n",
    "\n",
    "    # Add prompt to our history\n",
    "    messages = state[\"messages\"] + [HumanMessage(content=summary_message)]\n",
    "    response = model.invoke(messages)\n",
    "    \n",
    "    # Delete all but the 2 most recent messages\n",
    "    delete_messages = [RemoveMessage(id=m.id) for m in state[\"messages\"][:-2]]\n",
    "    return {\"summary\": response.content, \"messages\": delete_messages}\n",
    "\n",
    "# Determine whether to end or summarize the conversation\n",
    "def should_continue(state: State):\n",
    "    \n",
    "    \"\"\"Return the next node to execute.\"\"\"\n",
    "    \n",
    "    messages = state[\"messages\"]\n",
    "    \n",
    "    # If there are more than six messages, then we summarize the conversation\n",
    "    if len(messages) > 6:\n",
    "        return \"summarize_conversation\"\n",
    "    \n",
    "    # Otherwise we can just end\n",
    "    return END"
   ]
  },
  {
   "cell_type": "markdown",
   "id": "41c13c0b-a383-4f73-9cc1-63f0eed8f190",
   "metadata": {},
   "source": [
    "Now, we just re-compile with our sqlite checkpointer."
   ]
  },
  {
   "cell_type": "code",
   "execution_count": 7,
   "id": "e867fd95-91eb-4ce1-82fc-bb72d611a96d",
   "metadata": {},
   "outputs": [
    {
     "data": {
      "image/png": "[encoded data removed]",
      "text/plain": [
       "<IPython.core.display.Image object>"
      ]
     },
     "metadata": {},
     "output_type": "display_data"
    }
   ],
   "source": [
    "from IPython.display import Image, display\n",
    "from langgraph.graph import StateGraph, START\n",
    "\n",
    "# Define a new graph\n",
    "workflow = StateGraph(State)\n",
    "workflow.add_node(\"conversation\", call_model)\n",
    "workflow.add_node(summarize_conversation)\n",
    "\n",
    "# Set the entrypoint as conversation\n",
    "workflow.add_edge(START, \"conversation\")\n",
    "workflow.add_conditional_edges(\"conversation\", should_continue)\n",
    "workflow.add_edge(\"summarize_conversation\", END)\n",
    "\n",
    "# Compile\n",
    "graph = workflow.compile(checkpointer=memory)\n",
    "display(Image(graph.get_graph().draw_mermaid_png()))"
   ]
  },
  {
   "cell_type": "markdown",
   "id": "8769db99-3938-45e6-a594-56beb18d6c45",
   "metadata": {},
   "source": [
    "Now, we can invoke the graph several times. "
   ]
  },
  {
   "cell_type": "code",
   "execution_count": 8,
   "id": "0f4094a0-d240-4be8-903a-7d9f605bdc5c",
   "metadata": {},
   "outputs": [
    {
     "name": "stdout",
     "output_type": "stream",
     "text": [
      "==================================\u001b[1m Ai Message \u001b[0m==================================\n",
      "\n",
      "Hello Lance! It's nice to meet you. Is there something I can help you with or would you like to chat?\n",
      "==================================\u001b[1m Ai Message \u001b[0m==================================\n",
      "\n",
      "Your name is Lance.\n",
      "==================================\u001b[1m Ai Message \u001b[0m==================================\n",
      "\n",
      "A 49ers fan, eh? That's great! The San Francisco 49ers have a rich history in the NFL, with five Super Bowl wins and a loyal fan base. Who's your favorite player, past or present? Joe Montana, Jerry Rice, or maybe someone from the current roster like George Kittle or Deebo Samuel?\n"
     ]
    }
   ],
   "source": [
    "# Create a thread\n",
    "config = {\"configurable\": {\"thread_id\": \"1\"}}\n",
    "\n",
    "# Start conversation\n",
    "input_message = HumanMessage(content=\"hi! I'm Lance\")\n",
    "output = graph.invoke({\"messages\": [input_message]}, config) \n",
    "for m in output['messages'][-1:]:\n",
    "    m.pretty_print()\n",
    "\n",
    "input_message = HumanMessage(content=\"what's my name?\")\n",
    "output = graph.invoke({\"messages\": [input_message]}, config) \n",
    "for m in output['messages'][-1:]:\n",
    "    m.pretty_print()\n",
    "\n",
    "input_message = HumanMessage(content=\"i like the 49ers!\")\n",
    "output = graph.invoke({\"messages\": [input_message]}, config) \n",
    "for m in output['messages'][-1:]:\n",
    "    m.pretty_print()"
   ]
  },
  {
   "cell_type": "markdown",
   "id": "c0f3e842-4497-45e2-a924-69672a9bcb33",
   "metadata": {},
   "source": [
    "Let's confirm that our state is saved locally."
   ]
  },
  {
   "cell_type": "code",
   "execution_count": 9,
   "id": "d2ab158a-5a82-417a-8841-730a4cc18ea7",
   "metadata": {},
   "outputs": [
    {
     "name": "stdout",
     "output_type": "stream",
     "text": [
      "Current state:\n",
      "Number of messages: 6\n",
      "Summary: No summary yet\n"
     ]
    },
    {
     "data": {
      "text/plain": [
       "StateSnapshot(values={'messages': [HumanMessage(content=\"hi! I'm Lance\", additional_kwargs={}, response_metadata={}, id='b503b995-ce7b-437c-846a-71582cfe7d1a'), AIMessage(content=\"Hello Lance! It's nice to meet you. Is there something I can help you with or would you like to chat?\", additional_kwargs={}, response_metadata={'token_usage': {'completion_tokens': 26, 'prompt_tokens': 40, 'total_tokens': 66, 'completion_time': 0.043417154, 'prompt_time': 0.001978755, 'queue_time': 0.05695655, 'total_time': 0.045395909}, 'model_name': 'llama-3.3-70b-versatile', 'system_fingerprint': 'fp_9e1e8f8435', 'service_tier': 'on_demand', 'finish_reason': 'stop', 'logprobs': None, 'model_provider': 'groq'}, id='lc_run--c8da3759-a8dc-4526-84e6-27783db6cad6-0', usage_metadata={'input_tokens': 40, 'output_tokens': 26, 'total_tokens': 66}), HumanMessage(content=\"what's my name?\", additional_kwargs={}, response_metadata={}, id='2ce13484-7301-446e-92d6-c99dd31271b0'), AIMessage(content='Your name is Lance.', additional_kwargs={}, response_metadata={'token_usage': {'completion_tokens': 6, 'prompt_tokens': 80, 'total_tokens': 86, 'completion_time': 0.020596743, 'prompt_time': 0.004127716, 'queue_time': 0.051955264, 'total_time': 0.024724459}, 'model_name': 'llama-3.3-70b-versatile', 'system_fingerprint': 'fp_9e1e8f8435', 'service_tier': 'on_demand', 'finish_reason': 'stop', 'logprobs': None, 'model_provider': 'groq'}, id='lc_run--b95e841a-2033-4f24-b43a-e8af71b9695a-0', usage_metadata={'input_tokens': 80, 'output_tokens': 6, 'total_tokens': 86}), HumanMessage(content='i like the 49ers!', additional_kwargs={}, response_metadata={}, id='14fd02e2-0ed8-4576-b7c3-7d5cc44c27f9'), AIMessage(content=\"A 49ers fan, eh? That's great! The San Francisco 49ers have a rich history in the NFL, with five Super Bowl wins and a loyal fan base. Who's your favorite player, past or present? Joe Montana, Jerry Rice, or maybe someone from the current roster like George Kittle or Deebo Samuel?\", additional_kwargs={}, response_metadata={'token_usage': {'completion_tokens': 70, 'prompt_tokens': 102, 'total_tokens': 172, 'completion_time': 0.171707088, 'prompt_time': 0.005209887, 'queue_time': 0.068136163, 'total_time': 0.176916975}, 'model_name': 'llama-3.3-70b-versatile', 'system_fingerprint': 'fp_34d416ee39', 'service_tier': 'on_demand', 'finish_reason': 'stop', 'logprobs': None, 'model_provider': 'groq'}, id='lc_run--bc746487-8116-42f7-b49c-f868bc05e4a3-0', usage_metadata={'input_tokens': 102, 'output_tokens': 70, 'total_tokens': 172})]}, next=(), config={'configurable': {'thread_id': '1', 'checkpoint_ns': '', 'checkpoint_id': '1f0ab88e-d0af-61ea-8007-f630f28d8459'}}, metadata={'source': 'loop', 'step': 7, 'parents': {}}, created_at='2025-10-17T18:41:42.930462+00:00', parent_config={'configurable': {'thread_id': '1', 'checkpoint_ns': '', 'checkpoint_id': '1f0ab88e-cd6a-6732-8006-9727682134c3'}}, tasks=(), interrupts=())"
      ]
     },
     "execution_count": 9,
     "metadata": {},
     "output_type": "execute_result"
    }
   ],
   "source": [
    "config = {\"configurable\": {\"thread_id\": \"1\"}}\n",
    "graph_state = graph.get_state(config)\n",
    "print(\"Current state:\")\n",
    "print(f\"Number of messages: {len(graph_state.values['messages'])}\")\n",
    "print(f\"Summary: {graph_state.values.get('summary', 'No summary yet')}\")\n",
    "graph_state"
   ]
  },
  {
   "cell_type": "markdown",
   "id": "1e21152d-ed9c-408d-b7d5-f634c9ce81e2",
   "metadata": {},
   "source": [
    "### Persisting state\n",
    "\n",
    "Using database like Sqlite means state is persisted! \n",
    "\n",
    "For example, we can re-start the notebook kernel and see that we can still load from Sqlite DB on disk.\n",
    "\n",
    "Let's test this by creating a new connection and loading the state."
   ]
  },
  {
   "cell_type": "code",
   "execution_count": 10,
   "id": "b9a44dc5-be04-45fa-a6fc-27b0f8ee4678",
   "metadata": {},
   "outputs": [
    {
     "name": "stdout",
     "output_type": "stream",
     "text": [
      "\n",
      "=== Loaded state from persistent storage ===\n",
      "Number of messages: 6\n",
      "Summary: No summary yet\n"
     ]
    },
    {
     "data": {
      "text/plain": [
       "StateSnapshot(values={'messages': [HumanMessage(content=\"hi! I'm Lance\", additional_kwargs={}, response_metadata={}, id='b503b995-ce7b-437c-846a-71582cfe7d1a'), AIMessage(content=\"Hello Lance! It's nice to meet you. Is there something I can help you with or would you like to chat?\", additional_kwargs={}, response_metadata={'token_usage': {'completion_tokens': 26, 'prompt_tokens': 40, 'total_tokens': 66, 'completion_time': 0.043417154, 'prompt_time': 0.001978755, 'queue_time': 0.05695655, 'total_time': 0.045395909}, 'model_name': 'llama-3.3-70b-versatile', 'system_fingerprint': 'fp_9e1e8f8435', 'service_tier': 'on_demand', 'finish_reason': 'stop', 'logprobs': None, 'model_provider': 'groq'}, id='lc_run--c8da3759-a8dc-4526-84e6-27783db6cad6-0', usage_metadata={'input_tokens': 40, 'output_tokens': 26, 'total_tokens': 66}), HumanMessage(content=\"what's my name?\", additional_kwargs={}, response_metadata={}, id='2ce13484-7301-446e-92d6-c99dd31271b0'), AIMessage(content='Your name is Lance.', additional_kwargs={}, response_metadata={'token_usage': {'completion_tokens': 6, 'prompt_tokens': 80, 'total_tokens': 86, 'completion_time': 0.020596743, 'prompt_time': 0.004127716, 'queue_time': 0.051955264, 'total_time': 0.024724459}, 'model_name': 'llama-3.3-70b-versatile', 'system_fingerprint': 'fp_9e1e8f8435', 'service_tier': 'on_demand', 'finish_reason': 'stop', 'logprobs': None, 'model_provider': 'groq'}, id='lc_run--b95e841a-2033-4f24-b43a-e8af71b9695a-0', usage_metadata={'input_tokens': 80, 'output_tokens': 6, 'total_tokens': 86}), HumanMessage(content='i like the 49ers!', additional_kwargs={}, response_metadata={}, id='14fd02e2-0ed8-4576-b7c3-7d5cc44c27f9'), AIMessage(content=\"A 49ers fan, eh? That's great! The San Francisco 49ers have a rich history in the NFL, with five Super Bowl wins and a loyal fan base. Who's your favorite player, past or present? Joe Montana, Jerry Rice, or maybe someone from the current roster like George Kittle or Deebo Samuel?\", additional_kwargs={}, response_metadata={'token_usage': {'completion_tokens': 70, 'prompt_tokens': 102, 'total_tokens': 172, 'completion_time': 0.171707088, 'prompt_time': 0.005209887, 'queue_time': 0.068136163, 'total_time': 0.176916975}, 'model_name': 'llama-3.3-70b-versatile', 'system_fingerprint': 'fp_34d416ee39', 'service_tier': 'on_demand', 'finish_reason': 'stop', 'logprobs': None, 'model_provider': 'groq'}, id='lc_run--bc746487-8116-42f7-b49c-f868bc05e4a3-0', usage_metadata={'input_tokens': 102, 'output_tokens': 70, 'total_tokens': 172})]}, next=(), config={'configurable': {'thread_id': '1', 'checkpoint_ns': '', 'checkpoint_id': '1f0ab88e-d0af-61ea-8007-f630f28d8459'}}, metadata={'source': 'loop', 'step': 7, 'parents': {}}, created_at='2025-10-17T18:41:42.930462+00:00', parent_config={'configurable': {'thread_id': '1', 'checkpoint_ns': '', 'checkpoint_id': '1f0ab88e-cd6a-6732-8006-9727682134c3'}}, tasks=(), interrupts=())"
      ]
     },
     "execution_count": 10,
     "metadata": {},
     "output_type": "execute_result"
    }
   ],
   "source": [
    "# Simulate restarting by creating a new connection and memory object\n",
    "import sqlite3\n",
    "from langgraph.checkpoint.sqlite import SqliteSaver\n",
    "\n",
    "# Reconnect to the existing database\n",
    "db_path = \"state_db/groq_chatbot.db\"\n",
    "new_conn = sqlite3.connect(db_path, check_same_thread=False)\n",
    "new_memory = SqliteSaver(new_conn)\n",
    "\n",
    "# Recreate the graph with the new memory\n",
    "new_graph = workflow.compile(checkpointer=new_memory)\n",
    "\n",
    "# Load the state from thread 1\n",
    "config = {\"configurable\": {\"thread_id\": \"1\"}}\n",
    "loaded_state = new_graph.get_state(config)\n",
    "print(\"\\n=== Loaded state from persistent storage ===\")\n",
    "print(f\"Number of messages: {len(loaded_state.values['messages'])}\")\n",
    "print(f\"Summary: {loaded_state.values.get('summary', 'No summary yet')}\")\n",
    "loaded_state"
   ]
  },
  {
   "cell_type": "markdown",
   "id": "continue-conversation",
   "metadata": {},
   "source": [
    "### Continue the conversation\n",
    "\n",
    "Now let's continue the conversation from where we left off!"
   ]
  },
  {
   "cell_type": "code",
   "execution_count": 11,
   "id": "continue-conversation-code",
   "metadata": {},
   "outputs": [
    {
     "name": "stdout",
     "output_type": "stream",
     "text": [
      "==================================\u001b[1m Ai Message \u001b[0m==================================\n",
      "\n",
      "You're probably thinking of Brock Purdy or Trey Lance (no relation, I assume?). The 49ers have had a bit of a quarterback carousel in recent years, but I'll give you a brief rundown on their current QB situation.\n",
      "\n",
      "Brock Purdy is the current starting quarterback for the 49ers. He's a young quarterback who had a remarkable rookie season in 2022, leading the team to the NFC Championship game. Purdy is known for his accuracy, poise, and ability to extend plays with his feet.\n",
      "\n",
      "Trey Lance, on the other hand, is a talented young quarterback who was drafted by the 49ers with the third overall pick in the 2021 NFL Draft. He's a dual-threat quarterback with a strong arm and impressive athleticism. However, he's struggled with injuries and consistency, which has limited his playing time.\n",
      "\n",
      "It's worth noting that the 49ers have a strong team around their quarterback, with a stout defense, a solid running game, and a talented receiving corps. Whoever is under center, the 49ers are always a formidable opponent in the NFL!\n",
      "\n",
      "=== Updated state ===\n",
      "Number of messages: 2\n",
      "Summary exists: True\n"
     ]
    }
   ],
   "source": [
    "# Continue the conversation using the persistent state\n",
    "config = {\"configurable\": {\"thread_id\": \"1\"}}\n",
    "\n",
    "input_message = HumanMessage(content=\"Tell me about their quarterback!\")\n",
    "output = new_graph.invoke({\"messages\": [input_message]}, config) \n",
    "for m in output['messages'][-1:]:\n",
    "    m.pretty_print()\n",
    "\n",
    "print(\"\\n=== Updated state ===\")\n",
    "updated_state = new_graph.get_state(config)\n",
    "print(f\"Number of messages: {len(updated_state.values['messages'])}\")\n",
    "print(f\"Summary exists: {bool(updated_state.values.get('summary'))}\")"
   ]
  },
  {
   "cell_type": "markdown",
   "id": "test-multiple-threads",
   "metadata": {},
   "source": [
    "### Test Multiple Threads\n",
    "\n",
    "Let's verify that different threads maintain separate conversations in the database."
   ]
  },
  {
   "cell_type": "code",
   "execution_count": 12,
   "id": "test-multiple-threads-code",
   "metadata": {},
   "outputs": [
    {
     "name": "stdout",
     "output_type": "stream",
     "text": [
      "\n",
      "=== Thread 2 (Sarah) ===\n",
      "==================================\u001b[1m Ai Message \u001b[0m==================================\n",
      "\n",
      "Hi Sarah! It's great to meet you! Basketball is an exciting sport, and there are so many talented players and teams to follow. Are you a fan of a particular team, like the NBA or WNBA, or do you enjoy playing basketball yourself?\n",
      "\n",
      "=== Thread 1 (Lance) ===\n",
      "==================================\u001b[1m Ai Message \u001b[0m==================================\n",
      "\n",
      "Your favorite team is the San Francisco 49ers! You mentioned that earlier in our conversation. Are you excited about their upcoming season?\n"
     ]
    }
   ],
   "source": [
    "# Create a new thread with different conversation\n",
    "config2 = {\"configurable\": {\"thread_id\": \"2\"}}\n",
    "\n",
    "input_message = HumanMessage(content=\"Hi! I'm Sarah and I love basketball\")\n",
    "output = new_graph.invoke({\"messages\": [input_message]}, config2) \n",
    "print(\"\\n=== Thread 2 (Sarah) ===\")\n",
    "for m in output['messages'][-1:]:\n",
    "    m.pretty_print()\n",
    "\n",
    "# Verify thread 1 still has Lance's conversation\n",
    "config1 = {\"configurable\": {\"thread_id\": \"1\"}}\n",
    "input_message = HumanMessage(content=\"What's my favorite team again?\")\n",
    "output = new_graph.invoke({\"messages\": [input_message]}, config1) \n",
    "print(\"\\n=== Thread 1 (Lance) ===\")\n",
    "for m in output['messages'][-1:]:\n",
    "    m.pretty_print()"
   ]
  }
 ],
 "metadata": {
  "kernelspec": {
   "display_name": "Python 3 (ipykernel)",
   "language": "python",
   "name": "python3"
  },
  "language_info": {
   "codemirror_mode": {
    "name": "ipython",
    "version": 3
   },
   "file_extension": ".py",
   "mimetype": "text/x-python",
   "name": "python",
   "nbconvert_exporter": "python",
   "pygments_lexer": "ipython3",
   "version": "3.11.13"
  }
 },
 "nbformat": 4,
 "nbformat_minor": 5
}
